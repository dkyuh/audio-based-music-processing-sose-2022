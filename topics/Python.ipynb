{
 "cells": [
  {
   "cell_type": "markdown",
   "id": "eaf5c5f8",
   "metadata": {},
   "source": [
    "# Python specific stuff"
   ]
  },
  {
   "cell_type": "markdown",
   "id": "833602a0",
   "metadata": {},
   "source": [
    "## Strings"
   ]
  },
  {
   "cell_type": "code",
   "execution_count": 1,
   "id": "ae2ea0fb",
   "metadata": {},
   "outputs": [
    {
     "name": "stdout",
     "output_type": "stream",
     "text": [
      "hallo \t welt \n",
      " hallo \t du\n"
     ]
    }
   ],
   "source": [
    "'\\n' # new line\n",
    "'\\t' # tab\n",
    "\n",
    "print('hallo', '\\t', 'welt', '\\n', 'hallo', '\\t', 'du')"
   ]
  },
  {
   "cell_type": "markdown",
   "id": "0457d898",
   "metadata": {},
   "source": [
    "## Teilung ohne Rest\n",
    "\n",
    "also see: [Windowing Time-Framing](/topics/time_framing.md#Windowing%20Time-Framing)"
   ]
  },
  {
   "cell_type": "code",
   "execution_count": 2,
   "id": "3cddb360",
   "metadata": {},
   "outputs": [
    {
     "name": "stdout",
     "output_type": "stream",
     "text": [
      "2.6\n",
      "2\n"
     ]
    }
   ],
   "source": [
    "print(13 / 5)\n",
    "print(13 // 5) # --> teilung ohne rest"
   ]
  }
 ],
 "metadata": {
  "jupytext": {
   "formats": "ipynb,md"
  },
  "kernelspec": {
   "display_name": "Python 3 (ipykernel)",
   "language": "python",
   "name": "python3"
  },
  "language_info": {
   "codemirror_mode": {
    "name": "ipython",
    "version": 3
   },
   "file_extension": ".py",
   "mimetype": "text/x-python",
   "name": "python",
   "nbconvert_exporter": "python",
   "pygments_lexer": "ipython3",
   "version": "3.9.11"
  },
  "toc": {
   "base_numbering": 1,
   "nav_menu": {},
   "number_sections": true,
   "sideBar": true,
   "skip_h1_title": false,
   "title_cell": "Table of Contents",
   "title_sidebar": "Contents",
   "toc_cell": false,
   "toc_position": {},
   "toc_section_display": true,
   "toc_window_display": false
  },
  "varInspector": {
   "cols": {
    "lenName": 16,
    "lenType": 16,
    "lenVar": 40
   },
   "kernels_config": {
    "python": {
     "delete_cmd_postfix": "",
     "delete_cmd_prefix": "del ",
     "library": "var_list.py",
     "varRefreshCmd": "print(var_dic_list())"
    },
    "r": {
     "delete_cmd_postfix": ") ",
     "delete_cmd_prefix": "rm(",
     "library": "var_list.r",
     "varRefreshCmd": "cat(var_dic_list()) "
    }
   },
   "types_to_exclude": [
    "module",
    "function",
    "builtin_function_or_method",
    "instance",
    "_Feature"
   ],
   "window_display": false
  }
 },
 "nbformat": 4,
 "nbformat_minor": 5
}
