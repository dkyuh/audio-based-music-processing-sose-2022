{
 "cells": [
  {
   "cell_type": "markdown",
   "id": "bba4d160",
   "metadata": {
    "id": "9PfpllGMu2ej"
   },
   "source": [
    "# Imports"
   ]
  },
  {
   "cell_type": "code",
   "execution_count": null,
   "id": "d921423c",
   "metadata": {
    "id": "v1SIJC5hu2eo"
   },
   "outputs": [],
   "source": [
    "import numpy as np, matplotlib.pyplot as plt, librosa as lr, librosa.display\n",
    "from IPython.display import Audio"
   ]
  },
  {
   "cell_type": "markdown",
   "id": "9e9a8526",
   "metadata": {
    "id": "zNwMVA7lu2ep"
   },
   "source": [
    "# LogFreq"
   ]
  },
  {
   "cell_type": "code",
   "execution_count": null,
   "id": "cb6bc0a5",
   "metadata": {
    "id": "l64ABqcNu2eq"
   },
   "outputs": [],
   "source": [
    "def midi_to_frequency(p):\n",
    "    return 440 * 2 ** ((p - 69) / 12)\n",
    "\n",
    "def calc_f_coef(k, sr, N):\n",
    "    return k * sr / N\n",
    "\n",
    "def ks_in_dft(p, sr, N):\n",
    "    ks = []\n",
    "    num_ks = N // 2\n",
    "    \n",
    "    for k in range(num_ks):\n",
    "        \n",
    "        f_coef = calc_f_coef(k, sr, N)\n",
    "        \n",
    "        if (midi_to_frequency(p - 0.5) < f_coef) and (f_coef < midi_to_frequency(p + 0.5)):\n",
    "            ks.append(k)\n",
    "            \n",
    "    return ks\n",
    "\n",
    "def stft_to_logfreq(stft, sr):\n",
    "    logfreq = np.zeros((128, stft.shape[1]))\n",
    "    window_size = stft.shape[0]\n",
    "\n",
    "    for p in range(128):\n",
    "        ks = ks_in_dft(p, sr, window_size)\n",
    "        logfreq[p, :] = np.sum(np.abs(stft[ks, :]), axis=0)\n",
    "    \n",
    "    return logfreq"
   ]
  },
  {
   "cell_type": "code",
   "execution_count": null,
   "id": "bf7a21c0",
   "metadata": {
    "colab": {
     "base_uri": "https://localhost:8080/",
     "height": 1000
    },
    "id": "FRUdeUjf4EYv",
    "outputId": "ba4126f3-e798-4a66-9d55-2a893fdd18f7"
   },
   "outputs": [],
   "source": [
    "x_piano, sr_piano = lr.load('piano_scale.wav', sr=None)\n",
    "x_paris, sr_paris = lr.load('paris.wav', sr=None)\n",
    "\n",
    "length_piano = x_piano.size / sr_piano\n",
    "length_paris = x_paris.size / sr_paris\n",
    "\n",
    "display(Audio(x_piano, rate=sr_piano, autoplay=True))\n",
    "display(Audio(x_paris, rate=sr_paris, autoplay=True))\n",
    "\n",
    "stft_piano = lr.stft(x_piano)\n",
    "logfreq_piano = stft_to_logfreq(stft_piano, sr_piano)\n",
    "stft_paris = lr.stft(x_paris)\n",
    "logfreq_paris = stft_to_logfreq(stft_paris, sr_paris)\n",
    "\n",
    "\n",
    "gamma = 1\n",
    "plt.figure(figsize=(24, 18))\n",
    "plt.imshow(np.log10(1 + np.abs(logfreq_piano) * gamma), aspect='auto', origin='lower', extent=[0, length_piano, 0, 128])\n",
    "plt.show()\n",
    "plt.figure(figsize=(24, 18))\n",
    "plt.imshow(np.log10(1 + np.abs(logfreq_paris) * gamma), aspect='auto', origin='lower', extent=[0, length_paris, 0, 128])\n",
    "plt.show()"
   ]
  },
  {
   "cell_type": "markdown",
   "id": "73514730",
   "metadata": {
    "id": "wTIO2GA_u2er"
   },
   "source": [
    "# Chroma"
   ]
  },
  {
   "cell_type": "code",
   "execution_count": null,
   "id": "54125d04",
   "metadata": {
    "colab": {
     "base_uri": "https://localhost:8080/",
     "height": 1000
    },
    "id": "s4EvR6Spu2er",
    "outputId": "fefbedf8-2c04-4039-84b1-f335f919593e"
   },
   "outputs": [],
   "source": [
    "def logfreq_to_chroma(logfreq):\n",
    "    chroma = np.zeros((12, logfreq.shape[1]))\n",
    "    for p in range(128):\n",
    "        chroma[p % 12, :] = chroma[p % 12, :] + logfreq[p, :]\n",
    "    return chroma\n",
    "\n",
    "chroma_piano = logfreq_to_chroma(logfreq_piano)\n",
    "chroma_paris = logfreq_to_chroma(logfreq_paris)\n",
    "\n",
    "gamma = 1\n",
    "plt.figure(figsize=(24, 18))\n",
    "plt.imshow(np.log10(1 + np.abs(chroma_piano) * gamma), aspect='auto', origin='lower', extent=[0, length_piano, 0, 128])\n",
    "plt.show()\n",
    "plt.figure(figsize=(24, 18))\n",
    " # macht wenig sinn, aber der vollstaendigkeit halber:\n",
    "plt.imshow(np.log10(1 + np.abs(chroma_paris) * gamma), aspect='auto', origin='lower', extent=[0, length_paris, 0, 128])\n",
    "plt.show()"
   ]
  },
  {
   "cell_type": "markdown",
   "id": "70cf9a5c",
   "metadata": {
    "id": "EJmfJLt8u2er"
   },
   "source": [
    "# Helpers"
   ]
  },
  {
   "cell_type": "code",
   "execution_count": null,
   "id": "9a647b0e",
   "metadata": {
    "id": "EMRn2ONCu2es"
   },
   "outputs": [],
   "source": [
    "def plot_feature_waveform(feature, x, normalize=True):\n",
    "    plt.subplot(2, 1, 1)\n",
    "    plt.plot(x)\n",
    "    t = np.linspace(0, x.size, feature.size)\n",
    "    if normalize:\n",
    "        plt.plot(t, feature / np.max(np.abs(feature)))\n",
    "    else:\n",
    "        plt.plot(t, feature)\n",
    "    plt.ylim(-1.1, 1.1)\n",
    "    plt.subplot(2, 1, 2)\n",
    "    plt.plot(feature)\n",
    "    plt.tight_layout()\n",
    "    plt.show()\n",
    "    \n",
    "def plot_feature_stft(feature, stft, sr, gamma=1):\n",
    "    plt.figure(figsize=(20, 10))\n",
    "    plt.subplot(2, 1, 1)\n",
    "    lr.display.specshow(np.log(1 + stft * gamma), y_coords=lr.fft_frequencies(sr, 2048))\n",
    "    plt.plot(feature)\n",
    "    plt.show()"
   ]
  },
  {
   "cell_type": "code",
   "execution_count": null,
   "id": "e06e24e4",
   "metadata": {
    "colab": {
     "base_uri": "https://localhost:8080/"
    },
    "id": "gQx1oUils9wV",
    "outputId": "634657fd-7c0d-4936-808f-8b9e3f2f5413"
   },
   "outputs": [],
   "source": [
    "a = np.arange(30)\n",
    "\n",
    "print(a, '\\n')\n",
    "\n",
    "a_framed = lr.util.frame(a, 6, 2)\n",
    "\n",
    "print(a_framed, '\\n')\n",
    "\n",
    "np.sum(a_framed, axis=0)\n",
    "\n",
    "# 15, 27, 39, ..."
   ]
  },
  {
   "cell_type": "markdown",
   "id": "b429d50b",
   "metadata": {
    "id": "5cC8ux0Ru2et"
   },
   "source": [
    "# Root Mean Square Energy (Wiederholung)\n",
    "\n",
    "${\\displaystyle rms = \\sqrt{\\dfrac{1}{n} \\sum^{n}_{i=1}x_{i}^{2}} = \\sqrt{\\dfrac{x_{1}^{2} + x_{2}^{2} + ... + x_{n}^{2}}{n}}}$"
   ]
  },
  {
   "cell_type": "code",
   "execution_count": null,
   "id": "d409b94b",
   "metadata": {
    "colab": {
     "base_uri": "https://localhost:8080/",
     "height": 1000
    },
    "id": "2rPh8DAcu2et",
    "outputId": "6aafdb66-05f4-4885-98c4-aed487aa59fe"
   },
   "outputs": [],
   "source": [
    "def calc_rms_energy_double_loop(x, hop_size=512, window_size=2048):\n",
    "    num_windows = (x.size - window_size) // hop_size\n",
    "    rms = np.zeros(num_windows)\n",
    "    for i in range(num_windows):\n",
    "        for win_samp_idx in range(window_size):\n",
    "            rms[i] += x[i * hop_size + win_samp_idx] ** 2 / window_size\n",
    "    rms = np.sqrt(rms)\n",
    "    return rms\n",
    "\n",
    "rms_piano = calc_rms_energy_double_loop(x_piano)\n",
    "plot_feature_waveform(rms_piano, x_piano, normalize=False)\n",
    "rms_paris = calc_rms_energy_double_loop(x_paris)\n",
    "plot_feature_waveform(rms_paris, x_paris, normalize=False)\n",
    "\n",
    "def calc_rms_energy_loop(x, hop_size=512, window_size=2048):\n",
    "    num_windows = (x.size - window_size) // hop_size\n",
    "    rms = np.zeros(num_windows)\n",
    "    for i in range(num_windows):\n",
    "        win = x[i * hop_size : i * hop_size + window_size]\n",
    "        rms[i] = np.sqrt(np.mean(win ** 2))\n",
    "    return rms\n",
    "\n",
    "rms_piano = calc_rms_energy_loop(x_piano)\n",
    "plot_feature_waveform(rms_piano, x_piano, normalize=False)\n",
    "rms_paris = calc_rms_energy_loop(x_paris)\n",
    "plot_feature_waveform(rms_paris, x_paris, normalize=False)\n",
    "\n",
    "\n",
    "def calc_rms_energy_framed(x, hop_size=512, window_size=2048):\n",
    "    x_framed = lr.util.frame(x, window_size, hop_size)\n",
    "    rms = np.sqrt(np.mean(x_framed ** 2, axis=0))\n",
    "    return rms\n",
    "\n",
    "rms_piano = calc_rms_energy_framed(x_piano)\n",
    "plot_feature_waveform(rms_piano, x_piano, normalize=False)\n",
    "rms_paris = calc_rms_energy_framed(x_paris)\n",
    "plot_feature_waveform(rms_paris, x_paris, normalize=False)"
   ]
  },
  {
   "cell_type": "code",
   "execution_count": null,
   "id": "3204c73e",
   "metadata": {
    "colab": {
     "base_uri": "https://localhost:8080/"
    },
    "id": "7fva-ZdpxghB",
    "outputId": "e8fab13c-b355-4c51-b46c-25bdf690301a"
   },
   "outputs": [],
   "source": [
    "%timeit calc_rms_energy_double_loop(x_piano)\n",
    "%timeit calc_rms_energy_loop(x_piano)\n",
    "%timeit calc_rms_energy_framed(x_piano)"
   ]
  },
  {
   "cell_type": "markdown",
   "id": "c108db25",
   "metadata": {
    "id": "fINDnsXlu2es"
   },
   "source": [
    "# Zero-Crossing-Rate\n",
    "\n",
    "${\\displaystyle zcr = {\\frac{1}{N}\\sum^{N}_{i = 1} | \\mathrm{sign}[x(n + i)] - \\mathrm{sign}[x(n + i - 1)]|}}$\n",
    "\n",
    "${\\displaystyle zcr = {\\frac{1}{N}\\sum^{N}_{i = 1} | \\mathrm{sign}[x(n + i + 1)] - \\mathrm{sign}[x(n + i)]|}}$\n",
    "\n",
    "$\n",
    "\\mathrm{sign}(x) = \\left\\{\n",
    "\\begin{array}{ll}\n",
    "    +1 & \\mathrm{if} \\ x > 0\\\\\n",
    "    0  & \\mathrm{if} \\ x = 0\\\\\n",
    "    -1 & \\mathrm{if} \\ x < 0\n",
    "\\end{array}\n",
    "\\right.\n",
    "$"
   ]
  },
  {
   "cell_type": "code",
   "execution_count": null,
   "id": "4829c9f2",
   "metadata": {
    "colab": {
     "base_uri": "https://localhost:8080/"
    },
    "id": "dg7UkmIFyhtW",
    "outputId": "d216b635-2ba1-4d1f-f49d-9f2b99f84025"
   },
   "outputs": [],
   "source": [
    "print(np.sign(-100239))\n",
    "print(np.sign(100239))\n",
    "print(np.sign(0))\n",
    "\n",
    "\n",
    "np.arange(10)"
   ]
  },
  {
   "cell_type": "code",
   "execution_count": null,
   "id": "df911214",
   "metadata": {
    "colab": {
     "base_uri": "https://localhost:8080/",
     "height": 862
    },
    "id": "mzDYGceEu2et",
    "outputId": "16b5e587-270c-4e2e-9244-0c53eddbcaad"
   },
   "outputs": [],
   "source": [
    "def calc_zero_crossing_rate(x, hop_size=512, window_size=2048):\n",
    "    num_windows = (x.size - window_size) // hop_size\n",
    "    zcr = np.zeros(num_windows)\n",
    "    for i in range(num_windows):\n",
    "        win = x[i * hop_size : i * hop_size + window_size]\n",
    "        zcr[i] = np.mean(np.abs(np.sign(win[1:]) - np.sign(win[:-1])))\n",
    "    return zcr\n",
    "\n",
    "zcr_piano = calc_zero_crossing_rate(x_piano + 0.01)\n",
    "plot_feature_waveform(zcr_piano, x_piano)\n",
    "plot_feature_stft(zcr_piano * sr_piano / 2, np.abs(stft_piano), sr_piano)\n",
    "zcr_paris = calc_zero_crossing_rate(x_paris + 0.01)\n",
    "plot_feature_waveform(zcr_paris, x_paris)"
   ]
  },
  {
   "cell_type": "markdown",
   "id": "290866ed",
   "metadata": {
    "id": "nZ4Q5GDDu2et"
   },
   "source": [
    "# Spectral Centroid\n",
    "\n",
    "Schwerpunkt der Magnituden-Frequenzen im FFT-Fenster.\n",
    "\n",
    "${\\displaystyle \\mathrm{centroid} = \\dfrac{\\sum^{N-1}_{k=0}\\mathrm{freqs}(n)X(k)}{\\sum^{N-1}_{k=0}X(k)}}$"
   ]
  },
  {
   "cell_type": "code",
   "execution_count": null,
   "id": "a93b0b9f",
   "metadata": {
    "colab": {
     "base_uri": "https://localhost:8080/"
    },
    "id": "3u6c4zRZ2mG0",
    "outputId": "a669c47f-cf6e-42cd-aa4e-de85d5f0ab65"
   },
   "outputs": [],
   "source": [
    "f = np.arange(1, 7)\n",
    "\n",
    "print(f)\n",
    "\n",
    "print(a_framed)\n",
    "\n",
    "print(f[:, np.newaxis] * a_framed)"
   ]
  },
  {
   "cell_type": "code",
   "execution_count": null,
   "id": "d53ec235",
   "metadata": {
    "colab": {
     "base_uri": "https://localhost:8080/",
     "height": 1000
    },
    "id": "FYuS5HR6u2eu",
    "outputId": "2f46ffcb-c460-4615-ec5d-905f202b2004"
   },
   "outputs": [],
   "source": [
    "def calc_spectral_centroid(stft, sr):\n",
    "    freqs = lr.fft_frequencies(sr, stft.shape[0] * 2 - 1)\n",
    "    spec_cent = np.sum(freqs[:, np.newaxis] * stft, axis=0) / np.sum(stft, axis=0)\n",
    "    return spec_cent\n",
    "\n",
    "spec_cent_piano = calc_spectral_centroid(np.abs(lr.stft(x_piano + 0.05)), sr_piano)\n",
    "plot_feature_waveform(spec_cent_piano, x_piano)\n",
    "plot_feature_stft(spec_cent_piano, np.abs(stft_piano), sr_piano)\n",
    "\n",
    "spec_cent_paris = calc_spectral_centroid(np.abs(lr.stft(x_paris + 0.05)), sr_paris)\n",
    "plot_feature_waveform(spec_cent_paris, x_paris)\n",
    "plot_feature_stft(spec_cent_paris, np.abs(stft_paris), sr_paris)"
   ]
  },
  {
   "cell_type": "markdown",
   "id": "cf594edb",
   "metadata": {
    "id": "uHFOlSdIu2eu"
   },
   "source": [
    "# Spectral Bandwidth / Spread\n",
    "\n",
    "Deutet die \"Breite\", bzw. Verteilung der energiereichen/energie-gleichen Frequenzkoeffizienten des Spektrums zu einem Zeitpunkt im Fenster an.\n",
    "\n",
    "${\\displaystyle \\mathrm{bandwidth} = \\sqrt{\\dfrac{\\sum_{n=0}^{N-1}(\\mathrm{freqs}(n) - \\mathrm{centroid})^2X(n)}{\\sum_{n=0}^{N-1}X(n)}}}$"
   ]
  },
  {
   "cell_type": "code",
   "execution_count": null,
   "id": "9fc962bd",
   "metadata": {
    "colab": {
     "base_uri": "https://localhost:8080/",
     "height": 598
    },
    "id": "p-2mz389u2eu",
    "outputId": "9eb0fa1d-1a3f-4ade-e5d8-da05df9b864d"
   },
   "outputs": [],
   "source": [
    "def calc_spectral_bandwidth(stft, sr):\n",
    "    freqs = lr.fft_frequencies(sr, stft.shape[0] * 2 - 1)\n",
    "    spec_cent = calc_spectral_centroid(stft, sr)\n",
    "    spec_band = np.sqrt(np.sum( ((freqs[:, np.newaxis] - spec_cent) ** 2) * stft , axis=0) / np.sum(stft, axis=0))\n",
    "    return spec_band\n",
    "\n",
    "spec_band_piano = calc_spectral_bandwidth(np.abs(lr.stft(x_piano + 0.05)), sr_piano)\n",
    "plot_feature_waveform(spec_band_piano, x_piano)\n",
    "spec_band_paris = calc_spectral_bandwidth(np.abs(lr.stft(x_paris + 0.05)), sr_paris)\n",
    "plot_feature_waveform(spec_band_paris, x_paris)"
   ]
  },
  {
   "cell_type": "markdown",
   "id": "29577abe",
   "metadata": {
    "id": "UqlDiX30u2eu"
   },
   "source": [
    "## Combined Visualisation"
   ]
  },
  {
   "cell_type": "code",
   "execution_count": null,
   "id": "9219e3df",
   "metadata": {
    "colab": {
     "base_uri": "https://localhost:8080/",
     "height": 1000
    },
    "id": "9iMB8TOwu2eu",
    "outputId": "8efd42b9-49eb-4c2b-fde6-91306b550191"
   },
   "outputs": [],
   "source": [
    "# t_piano = np.linspace(0, x_piano.size, spec_band_piano.size)\n",
    "plt.figure(figsize=(24, 12))\n",
    "lr.display.specshow(np.log(1 + np.abs(stft_piano)), y_coords=lr.fft_frequencies(sr_piano, 2048))\n",
    "spec_cent_piano = calc_spectral_centroid(np.abs(lr.stft(x_piano + 0.05)), sr_piano)\n",
    "plt.plot(spec_cent_piano)\n",
    "plt.plot(spec_cent_piano + spec_band_piano)\n",
    "plt.plot(spec_cent_piano - spec_band_piano)\n",
    "plt.show()\n",
    "\n",
    "# t_piano = np.linspace(0, x_piano.size, spec_band_piano.size)\n",
    "plt.figure(figsize=(24, 12))\n",
    "lr.display.specshow(np.log(1 + np.abs(stft_paris)), y_coords=lr.fft_frequencies(sr_paris, 2048))\n",
    "spec_cent_paris = calc_spectral_centroid(np.abs(lr.stft(x_paris + 0.05)), sr_paris)\n",
    "plt.plot(spec_cent_paris)\n",
    "plt.plot(spec_cent_paris + spec_band_paris)\n",
    "plt.plot(spec_cent_paris - spec_band_paris)\n",
    "plt.show()"
   ]
  },
  {
   "cell_type": "markdown",
   "id": "f323a380",
   "metadata": {},
   "source": [
    "# Spectral Rolloff\n",
    "\n",
    "Zeigt den Frequenzkoeffizienten an, unter dem sich der größte Anteil Energie (in diesem Fall 90%) im Spektrum befindet.\n",
    "\n",
    "${C \\sum_{k=0}^{N-1} X_n(k)}$\n",
    "<!-- #endregion -->"
   ]
  },
  {
   "cell_type": "code",
   "execution_count": null,
   "id": "1022a74d",
   "metadata": {
    "colab": {
     "base_uri": "https://localhost:8080/",
     "height": 1000
    },
    "id": "8rxoVQwsu2ev",
    "outputId": "19eaf4fc-8cf1-446e-fc62-9c9346ff5696"
   },
   "outputs": [],
   "source": [
    "def calc_spectral_rolloff(stft, sr, c=0.9):\n",
    "    \n",
    "    total_energy = np.sum(stft, axis=0)\n",
    "    freqs = lr.fft_frequencies(sr, (stft.shape[0] - 1) * 2)\n",
    "    spec_roll = np.zeros_like(total_energy)\n",
    "\n",
    "    for n in range(stft.shape[1]):\n",
    "\n",
    "        current_energy = 0\n",
    "        k = 0 # frequenz-indizes\n",
    "\n",
    "        while (current_energy <= c * total_energy[n]) and (k < stft.shape[0]):\n",
    "\n",
    "            current_energy += stft[k, n]\n",
    "            k += 1\n",
    "        \n",
    "        spec_roll[n] = freqs[k]\n",
    "\n",
    "    return spec_roll\n",
    "\n",
    "spec_roll_piano = calc_spectral_rolloff(np.abs(lr.stft(x_piano + 0.05)), sr_piano)\n",
    "plot_feature_waveform(spec_roll_piano, x_piano)\n",
    "plot_feature_stft(spec_roll_piano, np.abs(stft_piano), sr_piano)\n",
    "spec_roll_paris = calc_spectral_rolloff(np.abs(lr.stft(x_paris + 0.05, n_fft=1024)), sr_paris)\n",
    "plot_feature_waveform(spec_roll_paris, x_paris)\n",
    "plot_feature_stft(spec_roll_paris, np.abs(lr.stft(x_paris + 0.05, n_fft=1024)), sr_paris, gamma=1)"
   ]
  },
  {
   "cell_type": "markdown",
   "id": "b6916ddb",
   "metadata": {
    "id": "AmcuQ9Qqu2ev"
   },
   "source": [
    "# Spectral Flatness\n",
    "\n",
    "Wie \"flach\" ist das Spektrum?\n",
    "\n",
    "--> geräuschartige Klänge: hohe Flachheit\n",
    "\n",
    "--> (quasi-)periodische Klänge: niedrige Flachheit\n",
    "\n",
    "${\\displaystyle \\mathrm{flatness} = \\dfrac{\\exp\\left(\\frac{1}{N}\\sum_{k=0}^{N-1}\\log(X_n(k)^2)\\right)}{\\frac{1}{N}\\sum_{k=0}^{N-1}X_n(k)^2}}$"
   ]
  },
  {
   "cell_type": "code",
   "execution_count": null,
   "id": "ead3ffda",
   "metadata": {
    "colab": {
     "base_uri": "https://localhost:8080/",
     "height": 577
    },
    "id": "aVVOKnCBu2ev",
    "outputId": "6ec86133-58a0-4b4d-c87f-68432c8bfb0b"
   },
   "outputs": [],
   "source": [
    "def calc_spectral_flatness(stft):\n",
    "    pow_stft = stft ** 2\n",
    "    spec_flat = np.exp(np.mean(np.log(pow_stft), axis=0)) / np.mean(pow_stft, axis=0)\n",
    "    return spec_flat\n",
    "\n",
    "spec_flat_piano = calc_spectral_flatness(np.abs(lr.stft(x_piano + 0.05)))\n",
    "plot_feature_waveform(spec_flat_piano, x_piano)\n",
    "spec_flat_paris = calc_spectral_flatness(np.abs(lr.stft(x_paris + 0.05)))\n",
    "plot_feature_waveform(spec_flat_paris, x_paris)"
   ]
  },
  {
   "cell_type": "code",
   "execution_count": null,
   "id": "8e9049ff",
   "metadata": {
    "colab": {
     "base_uri": "https://localhost:8080/",
     "height": 542
    },
    "id": "Rfpf8OZn3yQf",
    "outputId": "4e32a99c-d21f-4256-d932-ce1427752146"
   },
   "outputs": [],
   "source": [
    "plt.figure(figsize=(20, 10))\n",
    "lr.display.specshow(np.log10(1 + np.abs(stft_paris)))\n",
    "plt.show()"
   ]
  }
 ],
 "metadata": {
  "jupytext": {
   "formats": "md,ipynb"
  },
  "kernelspec": {
   "display_name": "Python 3 (ipykernel)",
   "language": "python",
   "name": "python3"
  },
  "language_info": {
   "codemirror_mode": {
    "name": "ipython",
    "version": 3
   },
   "file_extension": ".py",
   "mimetype": "text/x-python",
   "name": "python",
   "nbconvert_exporter": "python",
   "pygments_lexer": "ipython3",
   "version": "3.9.11"
  }
 },
 "nbformat": 4,
 "nbformat_minor": 5
}
