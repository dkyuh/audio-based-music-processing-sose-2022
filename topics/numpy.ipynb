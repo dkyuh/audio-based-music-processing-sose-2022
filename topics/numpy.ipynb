{
 "cells": [
  {
   "cell_type": "markdown",
   "id": "10d4d227",
   "metadata": {},
   "source": [
    "# Numpy"
   ]
  },
  {
   "cell_type": "code",
   "execution_count": 1,
   "id": "c971b090",
   "metadata": {},
   "outputs": [],
   "source": [
    "import numpy as np"
   ]
  },
  {
   "cell_type": "markdown",
   "id": "f368314a",
   "metadata": {},
   "source": [
    "## Numpy Arrays vs. Listen / Tuples"
   ]
  },
  {
   "cell_type": "code",
   "execution_count": 2,
   "id": "2dd8d0ab",
   "metadata": {},
   "outputs": [
    {
     "data": {
      "text/plain": [
       "[1, 2, 3]"
      ]
     },
     "execution_count": 2,
     "metadata": {},
     "output_type": "execute_result"
    }
   ],
   "source": [
    "# numpy-arrays\n",
    "\n",
    "# eigentlich gibt es in Python verschiedene Listen-Typen\n",
    "[1, 2, 3] # Liste"
   ]
  },
  {
   "cell_type": "code",
   "execution_count": 3,
   "id": "4e4a461f",
   "metadata": {},
   "outputs": [
    {
     "data": {
      "text/plain": [
       "(1, 2, 3)"
      ]
     },
     "execution_count": 3,
     "metadata": {},
     "output_type": "execute_result"
    }
   ],
   "source": [
    "(1, 2, 3) # Tuple"
   ]
  },
  {
   "cell_type": "code",
   "execution_count": 4,
   "id": "fd579a3a",
   "metadata": {},
   "outputs": [
    {
     "data": {
      "text/plain": [
       "[[1, 2, 3], [4, 5, 6]]"
      ]
     },
     "execution_count": 4,
     "metadata": {},
     "output_type": "execute_result"
    }
   ],
   "source": [
    "[[1, 2, 3], [4, 5, 6]] # ein Beispiel fuer eine verschachtelte Liste"
   ]
  },
  {
   "cell_type": "code",
   "execution_count": 5,
   "id": "d53c5bf2",
   "metadata": {},
   "outputs": [
    {
     "data": {
      "text/plain": [
       "array([1, 2, 3])"
      ]
     },
     "execution_count": 5,
     "metadata": {},
     "output_type": "execute_result"
    }
   ],
   "source": [
    "np.array([1, 2, 3]) # numpy-array (eigentlich wird hier aus einer Liste ein np-array erstellt)"
   ]
  },
  {
   "cell_type": "code",
   "execution_count": 6,
   "id": "48d0c138",
   "metadata": {},
   "outputs": [
    {
     "data": {
      "text/plain": [
       "[1, 2, 3, 4, 5, 6]"
      ]
     },
     "execution_count": 6,
     "metadata": {},
     "output_type": "execute_result"
    }
   ],
   "source": [
    "a_l = [1, 2, 3]\n",
    "b_l = [4, 5, 6]\n",
    "\n",
    "a_l + b_l # + Operation auf Listen\n",
    "# concatenate"
   ]
  },
  {
   "cell_type": "code",
   "execution_count": 7,
   "id": "223ef3b0",
   "metadata": {},
   "outputs": [
    {
     "data": {
      "text/plain": [
       "array([5, 7, 9])"
      ]
     },
     "execution_count": 7,
     "metadata": {},
     "output_type": "execute_result"
    }
   ],
   "source": [
    "a_np = np.array([1, 2, 3])\n",
    "b_np = np.array([4, 5, 6])\n",
    "\n",
    "a_np + b_np # + Operation auf np-arrays\n",
    "# Operationen werden elementweise ausgefuehrt"
   ]
  },
  {
   "cell_type": "markdown",
   "id": "8b4449ad",
   "metadata": {},
   "source": [
    "## datentypen in np-arrays vs in Listen"
   ]
  },
  {
   "cell_type": "code",
   "execution_count": 8,
   "id": "7a48f247",
   "metadata": {},
   "outputs": [
    {
     "data": {
      "text/plain": [
       "[1, 'hallo', 1.4, [4, 5, 7]]"
      ]
     },
     "execution_count": 8,
     "metadata": {},
     "output_type": "execute_result"
    }
   ],
   "source": [
    "# listen sind sehr flexibel:\n",
    "[1, \"hallo\", 1.4, [4, 5, 7]]"
   ]
  },
  {
   "cell_type": "code",
   "execution_count": 9,
   "id": "c87af5ef",
   "metadata": {},
   "outputs": [
    {
     "data": {
      "text/plain": [
       "array(['1', 'hallo', '1.4'], dtype='<U32')"
      ]
     },
     "execution_count": 9,
     "metadata": {},
     "output_type": "execute_result"
    }
   ],
   "source": [
    "np.array([1, \"hallo\", 1.4]) # hier wurden alle datentypen der elemente in strings ge-castet"
   ]
  },
  {
   "cell_type": "code",
   "execution_count": 10,
   "id": "5d057651",
   "metadata": {
    "scrolled": true
   },
   "outputs": [
    {
     "data": {
      "text/plain": [
       "array([1. , 1.4])"
      ]
     },
     "execution_count": 10,
     "metadata": {},
     "output_type": "execute_result"
    }
   ],
   "source": [
    "np.array([1, 1.4]) # hier wurden alle datentypen der elemente in floats ge-castet"
   ]
  },
  {
   "cell_type": "code",
   "execution_count": 11,
   "id": "0260be73",
   "metadata": {},
   "outputs": [
    {
     "data": {
      "text/plain": [
       "array(['1', '1.4'], dtype='<U3')"
      ]
     },
     "execution_count": 11,
     "metadata": {},
     "output_type": "execute_result"
    }
   ],
   "source": [
    "np.array([1, 1.4], dtype=str) # type-casting selbst bestimmen mit dem argument 'dtype'"
   ]
  },
  {
   "cell_type": "code",
   "execution_count": 12,
   "id": "d854a144",
   "metadata": {},
   "outputs": [
    {
     "name": "stderr",
     "output_type": "stream",
     "text": [
      "/var/folders/z5/dpzrln312ds6fqzfbcyp_t9m0000gn/T/ipykernel_28395/3555730902.py:1: VisibleDeprecationWarning: Creating an ndarray from ragged nested sequences (which is a list-or-tuple of lists-or-tuples-or ndarrays with different lengths or shapes) is deprecated. If you meant to do this, you must specify 'dtype=object' when creating the ndarray.\n",
      "  np.array([1, \"hallo\", 1.4, [4, 5, 7]])\n"
     ]
    },
    {
     "data": {
      "text/plain": [
       "array([1, 'hallo', 1.4, list([4, 5, 7])], dtype=object)"
      ]
     },
     "execution_count": 12,
     "metadata": {},
     "output_type": "execute_result"
    }
   ],
   "source": [
    "np.array([1, \"hallo\", 1.4, [4, 5, 7]])"
   ]
  },
  {
   "cell_type": "markdown",
   "id": "2e8dcf55",
   "metadata": {},
   "source": [
    "## Recheneffizienz mit Numpy-Arrays vs. Listen"
   ]
  },
  {
   "cell_type": "code",
   "execution_count": 13,
   "id": "4aafca49",
   "metadata": {},
   "outputs": [
    {
     "data": {
      "text/plain": [
       "[5, 7, 9]"
      ]
     },
     "execution_count": 13,
     "metadata": {},
     "output_type": "execute_result"
    }
   ],
   "source": [
    "# beispiel: elementweise addieren\n",
    "\n",
    "# listen: \n",
    "\n",
    "added_list = []\n",
    "\n",
    "for index in range(len(a_l)):\n",
    "#     print(index)\n",
    "    added_list.append(a_l[index] + b_l[index])\n",
    "\n",
    "added_list"
   ]
  },
  {
   "cell_type": "code",
   "execution_count": 14,
   "id": "d82360b6",
   "metadata": {},
   "outputs": [],
   "source": [
    "def add_lists(a_l, b_l):\n",
    "    \n",
    "    added_list = []\n",
    "    \n",
    "    for index in range(len(a_l)):\n",
    "        added_list.append(a_l[index] + b_l[index])\n",
    "    \n",
    "    return added_list"
   ]
  },
  {
   "cell_type": "code",
   "execution_count": 15,
   "id": "3da3fa78",
   "metadata": {},
   "outputs": [],
   "source": [
    "# elementweise addieren mit sehr grossen listen\n",
    "\n",
    "a_l = []\n",
    "b_l = []\n",
    "\n",
    "for i in range(10000000):\n",
    "    a_l.append(i)\n",
    "    b_l.append(i * 2)"
   ]
  },
  {
   "cell_type": "code",
   "execution_count": 16,
   "id": "80069851",
   "metadata": {},
   "outputs": [
    {
     "name": "stdout",
     "output_type": "stream",
     "text": [
      "696 ms ± 8.4 ms per loop (mean ± std. dev. of 7 runs, 1 loop each)\n"
     ]
    }
   ],
   "source": [
    "%timeit add_lists(a_l, b_l)"
   ]
  },
  {
   "cell_type": "code",
   "execution_count": 17,
   "id": "fb192f7c",
   "metadata": {},
   "outputs": [],
   "source": [
    "a_np = np.array(a_l)\n",
    "b_np = np.array(b_l)"
   ]
  },
  {
   "cell_type": "code",
   "execution_count": 18,
   "id": "28fc2286",
   "metadata": {},
   "outputs": [
    {
     "name": "stdout",
     "output_type": "stream",
     "text": [
      "8.42 ms ± 96.7 µs per loop (mean ± std. dev. of 7 runs, 100 loops each)\n"
     ]
    }
   ],
   "source": [
    "%timeit a_np + b_np"
   ]
  },
  {
   "cell_type": "code",
   "execution_count": 19,
   "id": "dba94408",
   "metadata": {},
   "outputs": [],
   "source": [
    "# --> elementweise verrechnen mit np-arrays ist viel schneller als mit Listen"
   ]
  },
  {
   "cell_type": "code",
   "execution_count": 20,
   "id": "ed8b575b",
   "metadata": {},
   "outputs": [],
   "source": [
    "# in diese np-arrays werden wir vor allem audio-daten schreiben, verrechnen, etc."
   ]
  },
  {
   "cell_type": "markdown",
   "id": "fd73f728",
   "metadata": {},
   "source": [
    "## Array Operationen"
   ]
  },
  {
   "cell_type": "code",
   "execution_count": 1,
   "id": "da975c5a",
   "metadata": {},
   "outputs": [],
   "source": [
    "a = np.array([1, 3, 49, 81, 5, 67])"
   ]
  },
  {
   "cell_type": "code",
   "execution_count": 3,
   "id": "3917c45d",
   "metadata": {},
   "outputs": [
    {
     "name": "stdout",
     "output_type": "stream",
     "text": [
      "[ 2  4 50 82  6 68]\n",
      "[  2   6  98 162  10 134]\n",
      "[ 0.5  1.5 24.5 40.5  2.5 33.5]\n",
      "[ True  True False False  True False]\n",
      "[101 203 349 481 505 667]\n"
     ]
    }
   ],
   "source": [
    "print(a + 1)\n",
    "print(a * 2)\n",
    "print(a / 2)\n",
    "print(a < 6)\n",
    "\n",
    "print(a + np.array([100, 200, 300, 400, 500, 600]))\n",
    "# dimensionen und shape muessen gleich sein"
   ]
  },
  {
   "cell_type": "code",
   "execution_count": 5,
   "id": "ee95a1ee",
   "metadata": {},
   "outputs": [
    {
     "name": "stdout",
     "output_type": "stream",
     "text": [
      "(6,)\n",
      "(6,)\n"
     ]
    }
   ],
   "source": [
    "print(np.shape(a))\n",
    "print(a.shape)"
   ]
  },
  {
   "cell_type": "markdown",
   "id": "d16bbc4f",
   "metadata": {},
   "source": [
    "## Multidimensionale Arrays"
   ]
  },
  {
   "cell_type": "code",
   "execution_count": 6,
   "id": "a4987ce5",
   "metadata": {},
   "outputs": [
    {
     "name": "stdout",
     "output_type": "stream",
     "text": [
      "[[1 2 3]\n",
      " [4 5 6]\n",
      " [7 8 9]]\n"
     ]
    }
   ],
   "source": [
    "b = np.array([ [1, 2, 3], [4, 5, 6], [7, 8, 9] ])\n",
    "print(b)\n",
    "# wird wie eine tabelle oder (in diesem fall 2d-)matrix behandelt"
   ]
  },
  {
   "cell_type": "code",
   "execution_count": 7,
   "id": "40265c29",
   "metadata": {},
   "outputs": [
    {
     "name": "stdout",
     "output_type": "stream",
     "text": [
      "(3, 3)\n"
     ]
    }
   ],
   "source": [
    "print(b.shape)"
   ]
  },
  {
   "cell_type": "code",
   "execution_count": 8,
   "id": "dd43e9d8",
   "metadata": {},
   "outputs": [
    {
     "name": "stdout",
     "output_type": "stream",
     "text": [
      "[0 1 2 3 4 5 6 7 8 9]\n",
      "[2 3 4 5 6 7 8 9]\n",
      "[2 5 8]\n"
     ]
    },
    {
     "data": {
      "text/plain": [
       "array([[[  0,   1,   2,   3,   4,   5,   6,   7],\n",
       "        [  8,   9,  10,  11,  12,  13,  14,  15],\n",
       "        [ 16,  17,  18,  19,  20,  21,  22,  23],\n",
       "        [ 24,  25,  26,  27,  28,  29,  30,  31],\n",
       "        [ 32,  33,  34,  35,  36,  37,  38,  39],\n",
       "        [ 40,  41,  42,  43,  44,  45,  46,  47],\n",
       "        [ 48,  49,  50,  51,  52,  53,  54,  55]],\n",
       "\n",
       "       [[ 56,  57,  58,  59,  60,  61,  62,  63],\n",
       "        [ 64,  65,  66,  67,  68,  69,  70,  71],\n",
       "        [ 72,  73,  74,  75,  76,  77,  78,  79],\n",
       "        [ 80,  81,  82,  83,  84,  85,  86,  87],\n",
       "        [ 88,  89,  90,  91,  92,  93,  94,  95],\n",
       "        [ 96,  97,  98,  99, 100, 101, 102, 103],\n",
       "        [104, 105, 106, 107, 108, 109, 110, 111]],\n",
       "\n",
       "       [[112, 113, 114, 115, 116, 117, 118, 119],\n",
       "        [120, 121, 122, 123, 124, 125, 126, 127],\n",
       "        [128, 129, 130, 131, 132, 133, 134, 135],\n",
       "        [136, 137, 138, 139, 140, 141, 142, 143],\n",
       "        [144, 145, 146, 147, 148, 149, 150, 151],\n",
       "        [152, 153, 154, 155, 156, 157, 158, 159],\n",
       "        [160, 161, 162, 163, 164, 165, 166, 167]],\n",
       "\n",
       "       [[168, 169, 170, 171, 172, 173, 174, 175],\n",
       "        [176, 177, 178, 179, 180, 181, 182, 183],\n",
       "        [184, 185, 186, 187, 188, 189, 190, 191],\n",
       "        [192, 193, 194, 195, 196, 197, 198, 199],\n",
       "        [200, 201, 202, 203, 204, 205, 206, 207],\n",
       "        [208, 209, 210, 211, 212, 213, 214, 215],\n",
       "        [216, 217, 218, 219, 220, 221, 222, 223]]])"
      ]
     },
     "execution_count": 8,
     "metadata": {},
     "output_type": "execute_result"
    }
   ],
   "source": [
    "# 3d\n",
    "# (4, 7, 8)\n",
    "\n",
    "print(np.arange(10))\n",
    "print(np.arange(2, 10))\n",
    "print(np.arange(2, 10, 3))\n",
    "      \n",
    "      \n",
    "np.reshape(np.arange(224), newshape=(4, 7, 8))"
   ]
  },
  {
   "cell_type": "markdown",
   "id": "9ba01620",
   "metadata": {},
   "source": [
    "## Auf Elemente zugreifen\n",
    "\n",
    "### einzelne Elemente"
   ]
  },
  {
   "cell_type": "code",
   "execution_count": 9,
   "id": "ae406ec4",
   "metadata": {},
   "outputs": [
    {
     "name": "stdout",
     "output_type": "stream",
     "text": [
      "[ 1  3 49 81  5 67]\n",
      "3\n",
      "5\n",
      "\n",
      "[[1 2 3]\n",
      " [4 5 6]\n",
      " [7 8 9]] \n",
      "\n",
      "[4 5 6] \n",
      "\n",
      "2 \n",
      "\n",
      "2 \n",
      "\n"
     ]
    }
   ],
   "source": [
    "print(a)\n",
    "\n",
    "print(a[1])\n",
    "\n",
    "print(a[-2]) # vor-vor-letztes element\n",
    "\n",
    "print()\n",
    "\n",
    "print(b, '\\n')\n",
    "\n",
    "print(b[1], '\\n')\n",
    "\n",
    "print(b[0][1], '\\n')\n",
    "\n",
    "print(b[0, 1], '\\n')"
   ]
  },
  {
   "cell_type": "code",
   "execution_count": 10,
   "id": "88f0f6bf",
   "metadata": {},
   "outputs": [
    {
     "name": "stdout",
     "output_type": "stream",
     "text": [
      "[[1, 2, 3], [4, 5, 6], [7, 8, 9]]\n",
      "2\n"
     ]
    }
   ],
   "source": [
    "b_list = [ [1, 2, 3], [4, 5, 6], [7, 8, 9] ]\n",
    "\n",
    "print(b_list)\n",
    "print(b_list[0][1])"
   ]
  },
  {
   "cell_type": "code",
   "execution_count": 11,
   "id": "6c01af40",
   "metadata": {},
   "outputs": [
    {
     "ename": "TypeError",
     "evalue": "list indices must be integers or slices, not tuple",
     "output_type": "error",
     "traceback": [
      "\u001b[0;31m---------------------------------------------------------------------------\u001b[0m",
      "\u001b[0;31mTypeError\u001b[0m                                 Traceback (most recent call last)",
      "\u001b[0;32m/var/folders/z5/dpzrln312ds6fqzfbcyp_t9m0000gn/T/ipykernel_28408/2334693775.py\u001b[0m in \u001b[0;36m<module>\u001b[0;34m\u001b[0m\n\u001b[0;32m----> 1\u001b[0;31m \u001b[0mb_list\u001b[0m\u001b[0;34m[\u001b[0m\u001b[0;36m0\u001b[0m\u001b[0;34m,\u001b[0m \u001b[0;36m1\u001b[0m\u001b[0;34m]\u001b[0m \u001b[0;31m#funktioniert nicht bei listen\u001b[0m\u001b[0;34m\u001b[0m\u001b[0;34m\u001b[0m\u001b[0m\n\u001b[0m",
      "\u001b[0;31mTypeError\u001b[0m: list indices must be integers or slices, not tuple"
     ]
    }
   ],
   "source": [
    "b_list[0, 1] #funktioniert nicht bei listen"
   ]
  },
  {
   "cell_type": "markdown",
   "id": "21868e74",
   "metadata": {},
   "source": [
    "### mehrere Elemente"
   ]
  },
  {
   "cell_type": "code",
   "execution_count": 12,
   "id": "6952ad7e",
   "metadata": {},
   "outputs": [
    {
     "name": "stdout",
     "output_type": "stream",
     "text": [
      "[ 1  3 49 81  5 67]\n",
      "[ 3 49 81]\n",
      "[ 3 49 81  5 67]\n",
      "[ 1  3 49 81]\n",
      "[ 1  3 49 81  5 67]\n",
      "[ 1  3 49 81  5]\n",
      "[ 1  3 49 81]\n",
      "\n",
      "[ True False False  True False  True]\n",
      "[ 1 81 67]\n"
     ]
    }
   ],
   "source": [
    "print(a)\n",
    "print(a[1:4]) # die rechte grenze ist exklusiv, d.h. wir haben eine element-range von 1-3 \n",
    "print(a[1:])\n",
    "print(a[:4])\n",
    "print(a[:])\n",
    "print(a[:-1]) # mit -1 die elemente von hinten zaehlen\n",
    "print(a[:-2])\n",
    "\n",
    "print()\n",
    "\n",
    "# boolean index\n",
    "print(np.array([True, False, False, True, False, True]))\n",
    "print(a[ np.array([True, False, False, True, False, True]) ])\n",
    "# auch hier muessen die dimensionen einander entsprechen"
   ]
  },
  {
   "cell_type": "code",
   "execution_count": 13,
   "id": "c1272e4a",
   "metadata": {},
   "outputs": [
    {
     "name": "stdout",
     "output_type": "stream",
     "text": [
      "[[1 2 3]\n",
      " [4 5 6]\n",
      " [7 8 9]] \n",
      "\n",
      "[[4 5 6]\n",
      " [7 8 9]] \n",
      "\n",
      "[[4 5 6]\n",
      " [7 8 9]] \n",
      "\n",
      "[[1 2 3]\n",
      " [4 5 6]] \n",
      "\n",
      "[[1 2 3]\n",
      " [4 5 6]] \n",
      "\n",
      "[2 5] \n",
      "\n",
      "[[2]\n",
      " [5]] \n",
      "\n",
      "[[2 3]\n",
      " [5 6]] \n",
      "\n"
     ]
    }
   ],
   "source": [
    "print(b, '\\n')\n",
    "\n",
    "print(b[1:3], '\\n')\n",
    "\n",
    "print(b[1:], '\\n')\n",
    "print(b[:2], '\\n')\n",
    "print(b[:-1], '\\n')\n",
    "\n",
    "print(b[0:2 , 1], '\\n')\n",
    "\n",
    "print(b[0:2 , 1:2], '\\n')\n",
    "\n",
    "print(b[0:2 , 1:3], '\\n')"
   ]
  },
  {
   "cell_type": "markdown",
   "id": "2f508961",
   "metadata": {},
   "source": [
    "### bool-index"
   ]
  },
  {
   "cell_type": "code",
   "execution_count": null,
   "id": "97f148ee",
   "metadata": {},
   "outputs": [],
   "source": [
    "# wie kann man auf 2 und 6 zugreifen\n",
    "\n",
    "# sieve <-> Sieb\n",
    "\n",
    "bool_idx = np.array([ [False, True,  False],\n",
    "                      [False, False, True ],\n",
    "                      [False, False, False]])\n",
    "\n",
    "print(bool_idx)\n",
    "\n",
    "print(b[bool_idx])\n",
    "\n",
    "\n",
    "\n",
    "print()\n",
    "# bool-index eleganter erstellen\n",
    "\n",
    "# bool_idx = (b == 2) or (b == 6) # funktioniert so nicht\n",
    "                                  # (aber nur wegen syntax - der gedanke an sich fuehrt zum Ziel)\n",
    "    \n",
    "bool_idx = np.logical_or(   b == 2,    b == 6   )\n",
    "\n",
    "print(bool_idx)\n",
    "\n",
    "\n",
    "\n",
    "print()\n",
    "# for-schleife\n",
    "\n",
    "j = 1\n",
    "for i in range(2):\n",
    "    if (j > 2):\n",
    "        break\n",
    "    print(b[i, j])\n",
    "    j += 1\n",
    "    \n",
    "    \n",
    "\n",
    "print()\n",
    "# for-schleife\n",
    "\n",
    "for i in range(2):\n",
    "    print(b[i, i + 1])\n",
    "\n",
    "# [[1 2 3]\n",
    "#  [4 5 6]\n",
    "#  [7 8 9]]"
   ]
  },
  {
   "cell_type": "markdown",
   "id": "3db37a98",
   "metadata": {},
   "source": [
    "## Arrays erstellen"
   ]
  },
  {
   "cell_type": "code",
   "execution_count": 14,
   "id": "92115c82",
   "metadata": {},
   "outputs": [
    {
     "name": "stdout",
     "output_type": "stream",
     "text": [
      "[50 54 58 62 66 70 74 78 82 86 90 94 98]\n",
      "[ 50.          55.55555556  61.11111111  66.66666667  72.22222222\n",
      "  77.77777778  83.33333333  88.88888889  94.44444444 100.        ]\n",
      "[50. 54. 58. 62. 66. 70. 74. 78. 82. 86. 90. 94. 98.]\n",
      "[50 54 58 62 66 70 74 78 82 86 90 94 98]\n",
      "[0. 0. 0. 0. 0. 0. 0. 0. 0. 0.]\n",
      "[1. 1. 1. 1. 1. 1. 1. 1. 1. 1.]\n",
      "[400. 400. 400. 400. 400. 400. 400. 400. 400. 400.]\n"
     ]
    }
   ],
   "source": [
    "print(np.arange(50, 100, 4))\n",
    "\n",
    "np.linspace # --> Shift-Tab fuer Documentation\n",
    "\n",
    "print(np.linspace(50, 100, num=10)) # bei linspace ist das 'stop'-argument **nicht** exklusiv\n",
    "\n",
    "print(np.linspace(50, 98, num=13))\n",
    "\n",
    "print(np.linspace(50, 98, num=13, dtype=int))\n",
    "\n",
    "print(np.zeros(10))\n",
    "\n",
    "print(np.ones(10))\n",
    "\n",
    "print(np.ones(10) * 400)"
   ]
  },
  {
   "cell_type": "markdown",
   "id": "0dbb8760",
   "metadata": {},
   "source": [
    "## datatypes"
   ]
  },
  {
   "cell_type": "code",
   "execution_count": 15,
   "id": "0907655f",
   "metadata": {},
   "outputs": [
    {
     "name": "stdout",
     "output_type": "stream",
     "text": [
      "[50 54 58 62 66 70 74 78 82 86 90 94 98]\n"
     ]
    }
   ],
   "source": [
    "print(np.linspace(50, 98, num=13, dtype=int))\n",
    "# datatypes koennen in fast jeder np-funktion mit dem 'dtype'-argument bestimmt werden"
   ]
  },
  {
   "cell_type": "markdown",
   "id": "16e95883",
   "metadata": {},
   "source": [
    "## Pi"
   ]
  },
  {
   "cell_type": "code",
   "execution_count": 16,
   "id": "572c0b3c",
   "metadata": {},
   "outputs": [
    {
     "data": {
      "text/plain": [
       "3.141592653589793"
      ]
     },
     "execution_count": 16,
     "metadata": {},
     "output_type": "execute_result"
    }
   ],
   "source": [
    "np.pi"
   ]
  },
  {
   "cell_type": "markdown",
   "id": "e505cf94",
   "metadata": {},
   "source": [
    "## Sine-Function"
   ]
  },
  {
   "cell_type": "code",
   "execution_count": 2,
   "id": "453a589d",
   "metadata": {},
   "outputs": [
    {
     "name": "stdout",
     "output_type": "stream",
     "text": [
      "0.0\n",
      "0.71\n",
      "1.0\n",
      "0.71\n",
      "0.0\n",
      "-0.71\n",
      "-1.0\n",
      "-0.71\n",
      "-0.0\n"
     ]
    }
   ],
   "source": [
    "print(np.sin(0))\n",
    "print(np.round(np.sin(1 / 4 * np.pi), 2))\n",
    "print(np.round(np.sin(1 / 2 * np.pi), 2))\n",
    "print(np.round(np.sin(3 / 4 * np.pi), 2))\n",
    "print(np.round(np.sin(1 * np.pi), 2))\n",
    "print(np.round(np.sin(5 / 4 * np.pi), 2))\n",
    "print(np.round(np.sin(3 / 2 * np.pi), 2))\n",
    "print(np.round(np.sin(7 / 4 * np.pi), 2))\n",
    "print(np.round(np.sin(2 * np.pi), 2))"
   ]
  },
  {
   "cell_type": "markdown",
   "id": "c1a975fa",
   "metadata": {},
   "source": [
    "## Runden"
   ]
  },
  {
   "cell_type": "code",
   "execution_count": 1,
   "id": "6c31a999",
   "metadata": {},
   "outputs": [
    {
     "name": "stdout",
     "output_type": "stream",
     "text": [
      "2.0\n",
      "2.5\n",
      "2.494\n"
     ]
    }
   ],
   "source": [
    "print(np.round(2.4941813948519385293874934857, 0))\n",
    "print(np.round(2.4941813948519385293874934857, 1))\n",
    "print(np.round(2.4941813948519385293874934857, 3))"
   ]
  },
  {
   "cell_type": "code",
   "execution_count": null,
   "id": "2c087c05",
   "metadata": {},
   "outputs": [],
   "source": []
  }
 ],
 "metadata": {
  "kernelspec": {
   "display_name": "Python 3 (ipykernel)",
   "language": "python",
   "name": "python3"
  },
  "language_info": {
   "codemirror_mode": {
    "name": "ipython",
    "version": 3
   },
   "file_extension": ".py",
   "mimetype": "text/x-python",
   "name": "python",
   "nbconvert_exporter": "python",
   "pygments_lexer": "ipython3",
   "version": "3.8.9"
  },
  "toc": {
   "base_numbering": 1,
   "nav_menu": {},
   "number_sections": true,
   "sideBar": true,
   "skip_h1_title": false,
   "title_cell": "Table of Contents",
   "title_sidebar": "Contents",
   "toc_cell": false,
   "toc_position": {},
   "toc_section_display": true,
   "toc_window_display": true
  },
  "varInspector": {
   "cols": {
    "lenName": 16,
    "lenType": 16,
    "lenVar": 40
   },
   "kernels_config": {
    "python": {
     "delete_cmd_postfix": "",
     "delete_cmd_prefix": "del ",
     "library": "var_list.py",
     "varRefreshCmd": "print(var_dic_list())"
    },
    "r": {
     "delete_cmd_postfix": ") ",
     "delete_cmd_prefix": "rm(",
     "library": "var_list.r",
     "varRefreshCmd": "cat(var_dic_list()) "
    }
   },
   "types_to_exclude": [
    "module",
    "function",
    "builtin_function_or_method",
    "instance",
    "_Feature"
   ],
   "window_display": false
  }
 },
 "nbformat": 4,
 "nbformat_minor": 5
}
