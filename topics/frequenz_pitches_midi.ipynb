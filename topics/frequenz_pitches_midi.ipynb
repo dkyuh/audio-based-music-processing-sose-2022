{
 "cells": [
  {
   "cell_type": "code",
   "execution_count": 1,
   "id": "e0e8c47c",
   "metadata": {},
   "outputs": [],
   "source": [
    "import numpy as np"
   ]
  },
  {
   "cell_type": "markdown",
   "id": "9968dd00",
   "metadata": {},
   "source": [
    "# Frequenzen - Pitches - MIDI\n",
    "\n",
    "![](../data/img/2022-05-03_02_freq_pitch_midi.jpg)"
   ]
  },
  {
   "cell_type": "code",
   "execution_count": 2,
   "id": "3c3928a7",
   "metadata": {},
   "outputs": [],
   "source": [
    "def midi_to_freq(p):\n",
    "    return 440 * 2 ** ((p - 69) / 12)"
   ]
  },
  {
   "cell_type": "code",
   "execution_count": 3,
   "id": "f07802f5",
   "metadata": {},
   "outputs": [
    {
     "name": "stdout",
     "output_type": "stream",
     "text": [
      "440.0\n",
      "880.0\n",
      "220.0\n",
      "466.1637615180899\n",
      "261.6255653005986\n",
      "452.8929841231365\n"
     ]
    }
   ],
   "source": [
    "print(midi_to_freq(69))\n",
    "print(midi_to_freq(69 + 12))\n",
    "print(midi_to_freq(69 - 12))\n",
    "print(midi_to_freq(69 + 1))\n",
    "print(midi_to_freq(60))\n",
    "print(midi_to_freq(69 + 0.5)) # viertelton nach oben"
   ]
  }
 ],
 "metadata": {
  "jupytext": {
   "formats": "ipynb,md"
  },
  "kernelspec": {
   "display_name": "Python 3 (ipykernel)",
   "language": "python",
   "name": "python3"
  },
  "language_info": {
   "codemirror_mode": {
    "name": "ipython",
    "version": 3
   },
   "file_extension": ".py",
   "mimetype": "text/x-python",
   "name": "python",
   "nbconvert_exporter": "python",
   "pygments_lexer": "ipython3",
   "version": "3.9.11"
  },
  "toc": {
   "base_numbering": 1,
   "nav_menu": {},
   "number_sections": true,
   "sideBar": true,
   "skip_h1_title": false,
   "title_cell": "Table of Contents",
   "title_sidebar": "Contents",
   "toc_cell": false,
   "toc_position": {},
   "toc_section_display": true,
   "toc_window_display": false
  },
  "varInspector": {
   "cols": {
    "lenName": 16,
    "lenType": 16,
    "lenVar": 40
   },
   "kernels_config": {
    "python": {
     "delete_cmd_postfix": "",
     "delete_cmd_prefix": "del ",
     "library": "var_list.py",
     "varRefreshCmd": "print(var_dic_list())"
    },
    "r": {
     "delete_cmd_postfix": ") ",
     "delete_cmd_prefix": "rm(",
     "library": "var_list.r",
     "varRefreshCmd": "cat(var_dic_list()) "
    }
   },
   "types_to_exclude": [
    "module",
    "function",
    "builtin_function_or_method",
    "instance",
    "_Feature"
   ],
   "window_display": false
  }
 },
 "nbformat": 4,
 "nbformat_minor": 5
}
