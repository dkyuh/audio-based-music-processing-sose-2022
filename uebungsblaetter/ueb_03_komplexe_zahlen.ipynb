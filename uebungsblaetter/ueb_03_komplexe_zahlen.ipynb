{
 "cells": [
  {
   "cell_type": "markdown",
   "id": "ad5ce2ee",
   "metadata": {},
   "source": [
    "# Imports"
   ]
  },
  {
   "cell_type": "code",
   "execution_count": 1,
   "id": "0c5d8d9c",
   "metadata": {},
   "outputs": [],
   "source": [
    "import matplotlib.pyplot as plt\n",
    "import numpy as np"
   ]
  },
  {
   "cell_type": "markdown",
   "id": "cf230ba5",
   "metadata": {},
   "source": [
    "# Komplexe Zahlen"
   ]
  },
  {
   "cell_type": "markdown",
   "id": "0e9dce35",
   "metadata": {},
   "source": [
    "## Real- und Imaginärteil"
   ]
  },
  {
   "cell_type": "markdown",
   "id": "30136fdc",
   "metadata": {},
   "source": [
    "<div style=\"background-color:lightyellow;border:solid grey;padding:10px\">\n",
    "\n",
    "**Aufgabe 1:** Findet den Realteil $\\mathrm{Re}(z)$ und Imaginärteil $\\mathrm{Im}(z)$ der folgenden komplexen Zahlen:$\n",
    "\n",
    "| $z = $                  | $\\mathrm{Re}(z) = $ | $\\mathrm{Im}(z) = $ |\n",
    "|-------------------------|---------------------|---------------------|\n",
    "| $3 + 3i$                |                     |                     |\n",
    "| $-3.8 - 27i$            |                     |                     |\n",
    "| $\\sqrt{-4}$             |                     |                     |\n",
    "| $7 + \\sqrt{-9}$         |                     |                     |\n",
    "| $4$                     |                     |                     |\n",
    "| $\\sqrt{-16} + \\sqrt{4}$ |                     |                     |\n",
    "| $70i + i^2$             |                     |                     |\n",
    "| $-i$                    |                     |                     |\n",
    "\n",
    "</div>"
   ]
  },
  {
   "cell_type": "markdown",
   "id": "d46dd73a",
   "metadata": {},
   "source": [
    "## Addition"
   ]
  },
  {
   "cell_type": "markdown",
   "id": "ce19f1b9",
   "metadata": {},
   "source": [
    "<div style=\"background-color:lightyellow;border:solid grey;padding:10px\">\n",
    "\n",
    "**Aufgabe 2:** Addiert folgende komplexe Zahlen:$\n",
    "\n",
    "| $z_1 = $                       | $z_2 = $                       | $z_1 + z_2 = $ |\n",
    "|--------------------------------|--------------------------------|----------------|\n",
    "| $4 + i$                        | $-2 + 2i$                      |                |\n",
    "| $-7i$                          | $3 + 7i$                       |                |\n",
    "| $\\dfrac{1}{2} + \\dfrac{1}{3}i$ | $\\dfrac{1}{4} + \\dfrac{1}{2}i$ |                |\n",
    "\n",
    "</div>"
   ]
  },
  {
   "cell_type": "markdown",
   "id": "d370b4b4",
   "metadata": {},
   "source": [
    "## Multiplikation"
   ]
  },
  {
   "cell_type": "code",
   "execution_count": 2,
   "id": "dfc77b93",
   "metadata": {},
   "outputs": [
    {
     "data": {
      "image/png": "[encoded data removed]",
      "text/plain": [
       "<Figure size 720x720 with 1 Axes>"
      ]
     },
     "metadata": {
      "needs_background": "light"
     },
     "output_type": "display_data"
    }
   ],
   "source": [
    "# code fuer darstellung\n",
    "fig, ax = plt.subplots(figsize=(10, 10))\n",
    "\n",
    "# x,y coordinates and colors of points\n",
    "x = [2, 2]\n",
    "y = [1, -1]\n",
    "txts = np.array(['2 + i', '2 - i'])\n",
    "color = ['r', 'b',]\n",
    "\n",
    "# Select length of axes and the space between tick labels\n",
    "plot_lim = 5\n",
    "xmin, xmax, ymin, ymax = -plot_lim, plot_lim, -plot_lim, plot_lim\n",
    "ticks_frequency = 1\n",
    "\n",
    "# Plot points\n",
    "ax.scatter(x, y, c=color)\n",
    "\n",
    "# label points\n",
    "offset = 0.2\n",
    "for i, txt in enumerate(txts):\n",
    "    ax.text(x[i] + offset, y[i] + offset, txt, color=color[i], fontsize=18)\n",
    "\n",
    "# plot vectors\n",
    "ax.quiver(np.array(x) * 0, np.array(y) * 0, x, y, color=color, scale=(plot_lim+1)*2)\n",
    "\n",
    "# Set identical scales for both axes\n",
    "ax.set(xlim=(xmin-1, xmax+1), ylim=(ymin-1, ymax+1), aspect='equal')\n",
    "\n",
    "# Set bottom and left spines as x and y axes of coordinate system\n",
    "ax.spines['bottom'].set_position('zero')\n",
    "ax.spines['left'].set_position('zero')\n",
    "\n",
    "# Remove top and right spines\n",
    "ax.spines['top'].set_visible(False)\n",
    "ax.spines['right'].set_visible(False)\n",
    "\n",
    "# Create 'x' and 'y' labels placed at the end of the axes\n",
    "ax.set_xlabel('Re', size=14, labelpad=15)\n",
    "ax.set_ylabel('Im', size=14, labelpad=15, rotation=0)\n",
    "ax.xaxis.set_label_coords(1.03, 0.512)\n",
    "ax.yaxis.set_label_coords(0.5, 1.02)\n",
    "\n",
    "# Create custom tick labels\n",
    "x_ticks = np.arange(xmin, xmax+1, ticks_frequency)\n",
    "x_ticks_major = x_ticks[x_ticks != 0]\n",
    "y_ticks = np.arange(ymin, ymax+1, ticks_frequency)\n",
    "y_ticks_major = y_ticks[y_ticks != 0]\n",
    "ax.set_xticks(x_ticks_major)\n",
    "ax.set_yticks(y_ticks_major)\n",
    "ax.set_xticks(np.arange(xmin,xmax+1), minor=True)\n",
    "ax.set_yticks(np.arange(ymin,ymax+1), minor=True)\n",
    "\n",
    "# Draw grid lines\n",
    "ax.grid(which='major', color='grey', linewidth=1, linestyle='-', alpha=0.2)\n",
    "ax.grid(which='minor', color='grey', linewidth=1, linestyle='-', alpha=0.2)\n",
    "\n",
    "# Draw arrows\n",
    "ax.plot((1), (0), linestyle=\"\", marker=\">\", markersize=4, color=\"k\",\n",
    "        transform=ax.get_yaxis_transform(), clip_on=False)\n",
    "ax.plot((0), (1), linestyle=\"\", marker=\"^\", markersize=4, color=\"k\",\n",
    "        transform=ax.get_xaxis_transform(), clip_on=False)\n",
    "\n",
    "plt.show()"
   ]
  },
  {
   "cell_type": "markdown",
   "id": "bc505703",
   "metadata": {},
   "source": [
    "<div style=\"background-color:lightyellow;border:solid grey;padding:10px\">\n",
    "\n",
    "**Aufgabe 3:** Ohne es algebraisch auszurechnen – was ist das Ergebnis des folgenden Produkts: $(2 + i) \\cdot (2 - i)$ (siehe Abbildung)?\n",
    "\n",
    "</div>"
   ]
  },
  {
   "cell_type": "markdown",
   "id": "0a8f949d",
   "metadata": {},
   "source": [
    "## Wurzel"
   ]
  },
  {
   "cell_type": "code",
   "execution_count": 4,
   "id": "581f3ce3",
   "metadata": {},
   "outputs": [
    {
     "data": {
      "image/png": "[encoded data removed]",
      "text/plain": [
       "<Figure size 720x720 with 1 Axes>"
      ]
     },
     "metadata": {
      "needs_background": "light"
     },
     "output_type": "display_data"
    }
   ],
   "source": [
    "# code fuer darstellung\n",
    "fig, ax = plt.subplots(figsize=(10, 10))\n",
    "\n",
    "# x,y coordinates and colors of points\n",
    "x = [0]\n",
    "y = [1]\n",
    "txts = np.array(['i'])\n",
    "color = ['r']\n",
    "\n",
    "circle = np.exp(np.linspace(0, 2 * np.pi * 1j, 100))\n",
    "\n",
    "# Select length of axes and the space between tick labels\n",
    "plot_lim = 2\n",
    "xmin, xmax, ymin, ymax = -plot_lim, plot_lim, -plot_lim, plot_lim\n",
    "ticks_frequency = 1\n",
    "\n",
    "# Plot points\n",
    "ax.scatter(x, y, c=color)\n",
    "\n",
    "# label points\n",
    "offset = 0.2\n",
    "for i, txt in enumerate(txts):\n",
    "    ax.text(x[i] + offset, y[i] + offset, txt, color=color[i], fontsize=18)\n",
    "\n",
    "# plot vectors\n",
    "ax.quiver(np.array(x) * 0, np.array(y) * 0, x, y,\n",
    "          color=color, scale=(plot_lim+1)*2)\n",
    "\n",
    "# Set identical scales for both axes\n",
    "ax.set(xlim=(xmin-1, xmax+1), ylim=(ymin-1, ymax+1), aspect='equal')\n",
    "\n",
    "# Set bottom and left spines as x and y axes of coordinate system\n",
    "ax.spines['bottom'].set_position('zero')\n",
    "ax.spines['left'].set_position('zero')\n",
    "\n",
    "# Remove top and right spines\n",
    "ax.spines['top'].set_visible(False)\n",
    "ax.spines['right'].set_visible(False)\n",
    "\n",
    "# Create 'x' and 'y' labels placed at the end of the axes\n",
    "ax.set_xlabel('Re', size=14, labelpad=15)\n",
    "ax.set_ylabel('Im', size=14, labelpad=15, rotation=0)\n",
    "ax.xaxis.set_label_coords(1.03, 0.512)\n",
    "ax.yaxis.set_label_coords(0.5, 1.02)\n",
    "\n",
    "# Create custom tick labels\n",
    "x_ticks = np.arange(xmin, xmax+1, ticks_frequency)\n",
    "x_ticks_major = x_ticks[x_ticks != 0]\n",
    "y_ticks = np.arange(ymin, ymax+1, ticks_frequency)\n",
    "y_ticks_major = y_ticks[y_ticks != 0]\n",
    "ax.set_xticks(x_ticks_major)\n",
    "ax.set_yticks(y_ticks_major)\n",
    "ax.set_xticks(np.arange(xmin,xmax+1), minor=True)\n",
    "ax.set_yticks(np.arange(ymin,ymax+1), minor=True)\n",
    "\n",
    "# Draw grid lines\n",
    "ax.grid(which='major', color='grey', linewidth=1, linestyle='-', alpha=0.2)\n",
    "ax.grid(which='minor', color='grey', linewidth=1, linestyle='-', alpha=0.2)\n",
    "\n",
    "# Draw arrows\n",
    "ax.plot((1), (0), linestyle=\"\", marker=\">\", markersize=4, color=\"k\",\n",
    "        transform=ax.get_yaxis_transform(), clip_on=False)\n",
    "ax.plot((0), (1), linestyle=\"\", marker=\"^\", markersize=4, color=\"k\",\n",
    "        transform=ax.get_xaxis_transform(), clip_on=False)\n",
    "\n",
    "\n",
    "ax.plot(circle.real, circle.imag)\n",
    "\n",
    "plt.show()"
   ]
  },
  {
   "cell_type": "markdown",
   "id": "f4b7ddc4",
   "metadata": {},
   "source": [
    "<div style=\"background-color:lightyellow;border:solid grey;padding:10px\">\n",
    "\n",
    "**Aufgabe 4:** Erinnert euch daran, dass Multiplikation \"geometrisch\" eine Addition der Winkel bedeutet, und dass das Quadrat (also die Multiplikation einer Zahl mit sich selbst) den doppelten Winkel ergibt. Wo müsste (\"geometrisch\" gesehen) die Zahl $\\sqrt{i}$ liegen?\n",
    "\n",
    "</div>"
   ]
  },
  {
   "cell_type": "markdown",
   "id": "e33e38d0",
   "metadata": {},
   "source": [
    "## Aufgaben für Stift und Papier ( oder im Kopf :) )"
   ]
  },
  {
   "cell_type": "markdown",
   "id": "a2987e8b",
   "metadata": {},
   "source": [
    "<div style=\"background-color:lightyellow;border:solid grey;padding:10px\">\n",
    "\n",
    "**Aufgabe 5:**\n",
    "\n",
    "Findet von folgenden komplexen Zahlen den absoluten Wert heraus:\n",
    "\n",
    "1. $i$\n",
    "2. $2$\n",
    "3. $2 + 2i$\n",
    "4. $\\sqrt{2} + \\sqrt{7}i$\n",
    "\n",
    "</div>"
   ]
  },
  {
   "cell_type": "markdown",
   "id": "7a09ab9a",
   "metadata": {},
   "source": [
    "1. ...\n",
    "2. ...\n",
    "3. ...\n",
    "4. ..."
   ]
  },
  {
   "cell_type": "markdown",
   "id": "1e44daee",
   "metadata": {},
   "source": [
    "<div style=\"background-color:lightyellow;border:solid grey;padding:10px\">\n",
    "\n",
    "**Aufgabe 6:**\n",
    "\n",
    "Findet den Winkel der folgenden komplexen Zahlen heraus:\n",
    "\n",
    "1. $1$\n",
    "2. $i$\n",
    "3. $1 + i$\n",
    "4. $-1$\n",
    "5. $-1 + i$\n",
    "6. $\\cos{(\\dfrac{\\pi}{6})} + \\sin{(\\dfrac{\\pi}{6})}i$\n",
    "\n",
    "</div>"
   ]
  },
  {
   "cell_type": "markdown",
   "id": "92cfa3a3",
   "metadata": {},
   "source": [
    "1. ...\n",
    "2. ...\n",
    "3. ...\n",
    "4. ...\n",
    "5. ...\n",
    "6. ..."
   ]
  }
 ],
 "metadata": {
  "kernelspec": {
   "display_name": "Python 3 (ipykernel)",
   "language": "python",
   "name": "python3"
  },
  "language_info": {
   "codemirror_mode": {
    "name": "ipython",
    "version": 3
   },
   "file_extension": ".py",
   "mimetype": "text/x-python",
   "name": "python",
   "nbconvert_exporter": "python",
   "pygments_lexer": "ipython3",
   "version": "3.9.11"
  }
 },
 "nbformat": 4,
 "nbformat_minor": 5
}
