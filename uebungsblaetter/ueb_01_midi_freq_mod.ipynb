{
 "cells": [
  {
   "cell_type": "markdown",
   "id": "41bad81c",
   "metadata": {},
   "source": [
    "# Imports"
   ]
  },
  {
   "cell_type": "code",
   "execution_count": null,
   "id": "55beb58f",
   "metadata": {},
   "outputs": [],
   "source": [
    "import numpy as np\n",
    "import matplotlib.pyplot as plt\n",
    "from IPython.display import Audio"
   ]
  },
  {
   "cell_type": "markdown",
   "id": "fda872bd",
   "metadata": {},
   "source": [
    "# Freq-to-MIDI"
   ]
  },
  {
   "cell_type": "markdown",
   "id": "3997cd19",
   "metadata": {},
   "source": [
    "in [Session 03](/sessions/03_sinus_midi.md) haben wir uns die Formel zur Berechnung der Frequenz zu einem gegebenen MIDI-Pitch hergeleitet:\n",
    "\n",
    "$f = 440 \\cdot (2^{\\frac{p - 69}{12}})$"
   ]
  },
  {
   "cell_type": "markdown",
   "id": "090aea9a",
   "metadata": {},
   "source": [
    "---\n",
    "\n",
    "**Aufgabe 1**: Formt die Formel so um, sodass damit der MIDI-Pitch aus einer gegebenen Frequenz berechnet werden kann ($p = \\dots$) und implementiert diese in der Funktion `freq_to_midi`"
   ]
  },
  {
   "cell_type": "code",
   "execution_count": null,
   "id": "11be20c9",
   "metadata": {},
   "outputs": [],
   "source": [
    "# schon implementiert:\n",
    "def midi_to_freq(p):\n",
    "    return 440 * 2 ** ((p - 69) / 12)\n",
    "\n",
    "print(midi_to_freq(69))\n",
    "print(midi_to_freq(69 + 12))\n",
    "print(midi_to_freq(69 - 12))\n",
    "print(midi_to_freq(69 + 1))\n",
    "print(midi_to_freq(60))\n",
    "print(midi_to_freq(69 + 0.5)) # viertelton nach oben"
   ]
  },
  {
   "cell_type": "code",
   "execution_count": null,
   "id": "76beb17f",
   "metadata": {},
   "outputs": [],
   "source": [
    "def freq_to_midi(f):\n",
    "    return ..."
   ]
  },
  {
   "cell_type": "code",
   "execution_count": null,
   "id": "9ef15016",
   "metadata": {},
   "outputs": [],
   "source": [
    "print(freq_to_midi(440.0))\n",
    "print(freq_to_midi(880.0))\n",
    "print(freq_to_midi(220.0))\n",
    "print(freq_to_midi(261.625))"
   ]
  },
  {
   "cell_type": "markdown",
   "id": "f904851b",
   "metadata": {},
   "source": [
    "# 'Melodie' generieren"
   ]
  },
  {
   "cell_type": "markdown",
   "id": "3062ddf1",
   "metadata": {},
   "source": [
    "**Aufgabe 2**: Generiert eine 'Melodie':\n",
    "- Sie soll aus mindestens drei (Sinus-)Tönen bestehen.\n",
    "- Die drei (oder mehr) Töne sollen hintereinander kommen (also einstimmig, nicht mehrstimmig).\n",
    "- Die Frequenzen dieser Töne sollen unserem temperierten Stimmungssystem entsprechen.\n",
    "\n",
    "Tipps:\n",
    "- `np.append` oder `np.concatenate` könnte nützlich sein.\n",
    "- Siehe die Funktionen, um einen MIDI-Pitch in Frequenz umzurechnen."
   ]
  },
  {
   "cell_type": "code",
   "execution_count": null,
   "id": "02383592",
   "metadata": {},
   "outputs": [],
   "source": [
    "sr = ...\n",
    "...\n",
    "...\n",
    "\n",
    "display(Audio(melody, rate=sr))"
   ]
  },
  {
   "cell_type": "markdown",
   "id": "d6afdc86",
   "metadata": {},
   "source": [
    "# Frequenz-Modulation"
   ]
  },
  {
   "cell_type": "markdown",
   "id": "8a160e9f",
   "metadata": {},
   "source": [
    "**Aufgabe 3**: Generiert einen Sinuston mit modulierter Frequenz:\n",
    "- sog. Chirp (Glissando aufwärts oder abwärts), **oder**\n",
    "- Frequenzmodulation mit einem Sinus als Modulator (FM-Synthese)\n",
    "\n",
    "Tipp: Bedenkt, wie Numpy-Arrays miteinander verrechnet werden (element-weise)."
   ]
  },
  {
   "cell_type": "code",
   "execution_count": null,
   "id": "f50548a6",
   "metadata": {},
   "outputs": [],
   "source": [
    "...\n",
    "...\n",
    "\n",
    "display(Audio(modulated_sine, rate=sr))"
   ]
  }
 ],
 "metadata": {
  "kernelspec": {
   "display_name": "Python 3 (ipykernel)",
   "language": "python",
   "name": "python3"
  },
  "language_info": {
   "codemirror_mode": {
    "name": "ipython",
    "version": 3
   },
   "file_extension": ".py",
   "mimetype": "text/x-python",
   "name": "python",
   "nbconvert_exporter": "python",
   "pygments_lexer": "ipython3",
   "version": "3.8.9"
  },
  "toc": {
   "base_numbering": 1,
   "nav_menu": {},
   "number_sections": true,
   "sideBar": true,
   "skip_h1_title": false,
   "title_cell": "Table of Contents",
   "title_sidebar": "Contents",
   "toc_cell": false,
   "toc_position": {},
   "toc_section_display": true,
   "toc_window_display": false
  },
  "varInspector": {
   "cols": {
    "lenName": 16,
    "lenType": 16,
    "lenVar": 40
   },
   "kernels_config": {
    "python": {
     "delete_cmd_postfix": "",
     "delete_cmd_prefix": "del ",
     "library": "var_list.py",
     "varRefreshCmd": "print(var_dic_list())"
    },
    "r": {
     "delete_cmd_postfix": ") ",
     "delete_cmd_prefix": "rm(",
     "library": "var_list.r",
     "varRefreshCmd": "cat(var_dic_list()) "
    }
   },
   "types_to_exclude": [
    "module",
    "function",
    "builtin_function_or_method",
    "instance",
    "_Feature"
   ],
   "window_display": false
  }
 },
 "nbformat": 4,
 "nbformat_minor": 5
}
