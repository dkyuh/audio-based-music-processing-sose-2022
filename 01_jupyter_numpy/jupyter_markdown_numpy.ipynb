{
 "cells": [
  {
   "cell_type": "markdown",
   "id": "6eafccb1",
   "metadata": {},
   "source": [
    "# Jupyter Notebooks\n",
    "\n",
    "- Edit-Mode\n",
    "    - Auto-Completion: irgendetwas tippen -> 'Tab' -> Auswahl and Completion-Möglichkeiten\n",
    "    - Documentation: 'Shift+Tab' mit dem Cursor irgendwo in einer Funktion / Klasse (auch in den Klammern für die Argumente)\n",
    "    - Zellen ausführen mit 'Cmd-Enter' / 'Ctrl-Enter' ||| 'Shift-Enter' -> ausführen + nächste Zelle\n",
    "    - 'Esc', um in den Cell-Mode zu wechseln\n",
    "- Cell-Mode (nicht offizielle Begriffe) mit \n",
    "    - Pfeiltasten zwischen den Zellen navigieren\n",
    "    - 'a' (above) 'b' (below) neue Zellen erstellen\n",
    "    - 'dd' Zellen löschen\n",
    "    - 'm' (Markdown) und 'y' (Code) den Zell-Typ ändern\n",
    "    - 'alt'/'option' gedrückt halten und mit der Maus über den Text ziehen: block-mark-mode (auch nicht-offizieller Begriff)\n",
    "    - 'Enter', um in den Edit Mode der ausgewählten Zelle zu wechseln\n",
    "- Jupyter Extensions\n",
    "    - [enable extensions](https://tljh.jupyter.org/en/latest/howto/admin/enable-extensions.html)"
   ]
  },
  {
   "cell_type": "markdown",
   "id": "4b86f13a",
   "metadata": {},
   "source": [
    "# Markdown\n",
    "\n",
    "# Title\n",
    "## Heading 1\n",
    "### Heading 2\n",
    "...\n",
    "###### Heading 6\n",
    "\n",
    "Man kann hier einfach Text schreiben - mit ein paar extra-Zeichen, kann der Text formatiert werden, z.B.\n",
    "\n",
    "- **Text in doppelten Sternchen ist fett**\n",
    "- *Text in einfachen Sternchen ist kursiv*\n",
    "- Stichpunkte mit 'Minus'\n",
    "- `Backticks für Code in Markdown` (in deutscher Mac-Tastatur 'Shift' + eine Taste links neben 'Delete' für Backticks)\n",
    "\n",
    "1. Nummerierte Stichpunkte mit Ziffern\n",
    "2. Unterlisten mit Einrückung (Tab)\n",
    "    - hier ist eine Unterliste\n",
    "    - mit noch einem zweiten Punkt\n",
    "3. Links:\n",
    "    - [Angezeigter Link-Text](URL)\n",
    "\n",
    "![Alternative Text](https://cdn11.bigcommerce.com/s-dwlxj/images/stencil/2560w/products/3146/5285/60watt-edison-bulb__02843.1508283240.jpg?c=2)"
   ]
  },
  {
   "cell_type": "markdown",
   "id": "10d4d227",
   "metadata": {},
   "source": [
    "# Numpy"
   ]
  },
  {
   "cell_type": "code",
   "execution_count": 11,
   "id": "c971b090",
   "metadata": {},
   "outputs": [],
   "source": [
    "import numpy as np"
   ]
  },
  {
   "cell_type": "markdown",
   "id": "f368314a",
   "metadata": {},
   "source": [
    "## Numpy Arrays vs. Listen / Tuples"
   ]
  },
  {
   "cell_type": "code",
   "execution_count": 12,
   "id": "2dd8d0ab",
   "metadata": {},
   "outputs": [
    {
     "data": {
      "text/plain": [
       "[1, 2, 3]"
      ]
     },
     "execution_count": 12,
     "metadata": {},
     "output_type": "execute_result"
    }
   ],
   "source": [
    "# numpy-arrays\n",
    "\n",
    "# eigentlich gibt es in Python verschiedene Listen-Typen\n",
    "[1, 2, 3] # Liste"
   ]
  },
  {
   "cell_type": "code",
   "execution_count": 13,
   "id": "4e4a461f",
   "metadata": {},
   "outputs": [
    {
     "data": {
      "text/plain": [
       "(1, 2, 3)"
      ]
     },
     "execution_count": 13,
     "metadata": {},
     "output_type": "execute_result"
    }
   ],
   "source": [
    "(1, 2, 3) # Tuple"
   ]
  },
  {
   "cell_type": "code",
   "execution_count": 14,
   "id": "fd579a3a",
   "metadata": {},
   "outputs": [
    {
     "data": {
      "text/plain": [
       "[[1, 2, 3], [4, 5, 6]]"
      ]
     },
     "execution_count": 14,
     "metadata": {},
     "output_type": "execute_result"
    }
   ],
   "source": [
    "[[1, 2, 3], [4, 5, 6]] # ein Beispiel fuer eine verschachtelte Liste"
   ]
  },
  {
   "cell_type": "code",
   "execution_count": 15,
   "id": "d53c5bf2",
   "metadata": {},
   "outputs": [
    {
     "data": {
      "text/plain": [
       "array([1, 2, 3])"
      ]
     },
     "execution_count": 15,
     "metadata": {},
     "output_type": "execute_result"
    }
   ],
   "source": [
    "np.array([1, 2, 3]) # numpy-array (eigentlich wird hier aus einer Liste ein np-array erstellt)"
   ]
  },
  {
   "cell_type": "code",
   "execution_count": 26,
   "id": "48d0c138",
   "metadata": {},
   "outputs": [
    {
     "data": {
      "text/plain": [
       "[1, 2, 3, 4, 5, 6]"
      ]
     },
     "execution_count": 26,
     "metadata": {},
     "output_type": "execute_result"
    }
   ],
   "source": [
    "a_l = [1, 2, 3]\n",
    "b_l = [4, 5, 6]\n",
    "\n",
    "a_l + b_l # + Operation auf Listen\n",
    "# concatenate"
   ]
  },
  {
   "cell_type": "code",
   "execution_count": 17,
   "id": "223ef3b0",
   "metadata": {},
   "outputs": [
    {
     "data": {
      "text/plain": [
       "array([5, 7, 9])"
      ]
     },
     "execution_count": 17,
     "metadata": {},
     "output_type": "execute_result"
    }
   ],
   "source": [
    "a_np = np.array([1, 2, 3])\n",
    "b_np = np.array([4, 5, 6])\n",
    "\n",
    "a_np + b_np # + Operation auf np-arrays\n",
    "# Operationen werden elementweise ausgefuehrt"
   ]
  },
  {
   "cell_type": "markdown",
   "id": "8b4449ad",
   "metadata": {},
   "source": [
    "## datentypen in np-arrays vs in Listen"
   ]
  },
  {
   "cell_type": "code",
   "execution_count": 18,
   "id": "7a48f247",
   "metadata": {},
   "outputs": [
    {
     "data": {
      "text/plain": [
       "[1, 'hallo', 1.4, [4, 5, 7]]"
      ]
     },
     "execution_count": 18,
     "metadata": {},
     "output_type": "execute_result"
    }
   ],
   "source": [
    "# listen sind sehr flexibel:\n",
    "[1, \"hallo\", 1.4, [4, 5, 7]]"
   ]
  },
  {
   "cell_type": "code",
   "execution_count": 20,
   "id": "c87af5ef",
   "metadata": {},
   "outputs": [
    {
     "data": {
      "text/plain": [
       "array(['1', 'hallo', '1.4'], dtype='<U32')"
      ]
     },
     "execution_count": 20,
     "metadata": {},
     "output_type": "execute_result"
    }
   ],
   "source": [
    "np.array([1, \"hallo\", 1.4]) # hier wurden alle datentypen der elemente in strings ge-castet"
   ]
  },
  {
   "cell_type": "code",
   "execution_count": 21,
   "id": "5d057651",
   "metadata": {
    "scrolled": true
   },
   "outputs": [
    {
     "data": {
      "text/plain": [
       "array([1. , 1.4])"
      ]
     },
     "execution_count": 21,
     "metadata": {},
     "output_type": "execute_result"
    }
   ],
   "source": [
    "np.array([1, 1.4]) # hier wurden alle datentypen der elemente in floats ge-castet"
   ]
  },
  {
   "cell_type": "code",
   "execution_count": 24,
   "id": "0260be73",
   "metadata": {},
   "outputs": [
    {
     "data": {
      "text/plain": [
       "array([1, 1])"
      ]
     },
     "execution_count": 24,
     "metadata": {},
     "output_type": "execute_result"
    }
   ],
   "source": [
    "np.array([1, 1.4], dtype=str) # type-casting selbst bestimmen mit dem argument 'dtype'"
   ]
  },
  {
   "cell_type": "code",
   "execution_count": 19,
   "id": "d854a144",
   "metadata": {},
   "outputs": [
    {
     "name": "stderr",
     "output_type": "stream",
     "text": [
      "/var/folders/z5/dpzrln312ds6fqzfbcyp_t9m0000gn/T/ipykernel_29940/3555730902.py:1: VisibleDeprecationWarning: Creating an ndarray from ragged nested sequences (which is a list-or-tuple of lists-or-tuples-or ndarrays with different lengths or shapes) is deprecated. If you meant to do this, you must specify 'dtype=object' when creating the ndarray.\n",
      "  np.array([1, \"hallo\", 1.4, [4, 5, 7]])\n"
     ]
    },
    {
     "data": {
      "text/plain": [
       "array([1, 'hallo', 1.4, list([4, 5, 7])], dtype=object)"
      ]
     },
     "execution_count": 19,
     "metadata": {},
     "output_type": "execute_result"
    }
   ],
   "source": [
    "np.array([1, \"hallo\", 1.4, [4, 5, 7]])"
   ]
  },
  {
   "cell_type": "markdown",
   "id": "2e8dcf55",
   "metadata": {},
   "source": [
    "## Recheneffizienz mit Numpy-Arrays vs. Listen"
   ]
  },
  {
   "cell_type": "code",
   "execution_count": 51,
   "id": "4aafca49",
   "metadata": {},
   "outputs": [
    {
     "data": {
      "text/plain": [
       "[5, 7, 9]"
      ]
     },
     "execution_count": 51,
     "metadata": {},
     "output_type": "execute_result"
    }
   ],
   "source": [
    "# beispiel: elementweise addieren\n",
    "\n",
    "# listen: \n",
    "\n",
    "added_list = []\n",
    "\n",
    "for index in range(len(a_l)):\n",
    "#     print(index)\n",
    "    added_list.append(a_l[index] + b_l[index])\n",
    "\n",
    "added_list"
   ]
  },
  {
   "cell_type": "code",
   "execution_count": 52,
   "id": "d82360b6",
   "metadata": {},
   "outputs": [],
   "source": [
    "def add_lists(a_l, b_l):\n",
    "    \n",
    "    added_list = []\n",
    "    \n",
    "    for index in range(len(a_l)):\n",
    "        added_list.append(a_l[index] + b_l[index])\n",
    "    \n",
    "    return added_list"
   ]
  },
  {
   "cell_type": "code",
   "execution_count": 58,
   "id": "3da3fa78",
   "metadata": {},
   "outputs": [],
   "source": [
    "# elementweise addieren mit sehr grossen listen\n",
    "\n",
    "a_l = []\n",
    "b_l = []\n",
    "\n",
    "for i in range(10000000):\n",
    "    a_l.append(i)\n",
    "    b_l.append(i * 2)"
   ]
  },
  {
   "cell_type": "code",
   "execution_count": 62,
   "id": "80069851",
   "metadata": {},
   "outputs": [
    {
     "name": "stdout",
     "output_type": "stream",
     "text": [
      "675 ms ± 3.06 ms per loop (mean ± std. dev. of 7 runs, 1 loop each)\n"
     ]
    }
   ],
   "source": [
    "%timeit add_lists(a_l, b_l)"
   ]
  },
  {
   "cell_type": "code",
   "execution_count": 60,
   "id": "fb192f7c",
   "metadata": {},
   "outputs": [],
   "source": [
    "a_np = np.array(a_l)\n",
    "b_np = np.array(b_l)"
   ]
  },
  {
   "cell_type": "code",
   "execution_count": 63,
   "id": "28fc2286",
   "metadata": {},
   "outputs": [
    {
     "name": "stdout",
     "output_type": "stream",
     "text": [
      "7.83 ms ± 248 µs per loop (mean ± std. dev. of 7 runs, 100 loops each)\n"
     ]
    }
   ],
   "source": [
    "%timeit a_np + b_np"
   ]
  },
  {
   "cell_type": "code",
   "execution_count": null,
   "id": "dba94408",
   "metadata": {},
   "outputs": [],
   "source": [
    "# --> elementweise verrechnen mit np-arrays ist viel schneller als mit Listen"
   ]
  },
  {
   "cell_type": "code",
   "execution_count": null,
   "id": "ed8b575b",
   "metadata": {},
   "outputs": [],
   "source": [
    "# in diese np-arrays werden wir vor allem audio-daten schreiben, verrechnen, etc."
   ]
  }
 ],
 "metadata": {
  "kernelspec": {
   "display_name": "Python 3 (ipykernel)",
   "language": "python",
   "name": "python3"
  },
  "language_info": {
   "codemirror_mode": {
    "name": "ipython",
    "version": 3
   },
   "file_extension": ".py",
   "mimetype": "text/x-python",
   "name": "python",
   "nbconvert_exporter": "python",
   "pygments_lexer": "ipython3",
   "version": "3.8.9"
  },
  "toc": {
   "base_numbering": 1,
   "nav_menu": {},
   "number_sections": true,
   "sideBar": true,
   "skip_h1_title": false,
   "title_cell": "Table of Contents",
   "title_sidebar": "Contents",
   "toc_cell": false,
   "toc_position": {},
   "toc_section_display": true,
   "toc_window_display": true
  },
  "varInspector": {
   "cols": {
    "lenName": 16,
    "lenType": 16,
    "lenVar": 40
   },
   "kernels_config": {
    "python": {
     "delete_cmd_postfix": "",
     "delete_cmd_prefix": "del ",
     "library": "var_list.py",
     "varRefreshCmd": "print(var_dic_list())"
    },
    "r": {
     "delete_cmd_postfix": ") ",
     "delete_cmd_prefix": "rm(",
     "library": "var_list.r",
     "varRefreshCmd": "cat(var_dic_list()) "
    }
   },
   "types_to_exclude": [
    "module",
    "function",
    "builtin_function_or_method",
    "instance",
    "_Feature"
   ],
   "window_display": false
  }
 },
 "nbformat": 4,
 "nbformat_minor": 5
}
